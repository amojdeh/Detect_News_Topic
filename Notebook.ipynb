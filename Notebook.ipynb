{
 "cells": [
  {
   "cell_type": "markdown",
   "metadata": {
    "id": "6MyS10yViqcm"
   },
   "source": [
    "# Detect News Topics"
   ]
  },
  {
   "cell_type": "code",
   "execution_count": 1,
   "metadata": {
    "executionInfo": {
     "elapsed": 713,
     "status": "ok",
     "timestamp": 1624650478917,
     "user": {
      "displayName": "Abhinav Gupta",
      "photoUrl": "https://lh3.googleusercontent.com/a-/AOh14GjBpiTimJbxMWFkdipjcGYSIUpGfIav82LSmCyTXw=s64",
      "userId": "04670585521629932433"
     },
     "user_tz": -330
    },
    "id": "JbEkd_xyhPr5"
   },
   "outputs": [],
   "source": [
    "# To install packages that are not installed by default, uncomment the last two lines of this cell \n",
    "# and replace <package list> with a list of needed packages.\n",
    "# This will ensure the notebook has all the dependencies and works everywhere\n",
    "\n",
    "#import sys\n",
    "#!{sys.executable} -m pip install <package list>"
   ]
  },
  {
   "cell_type": "code",
   "execution_count": null,
   "metadata": {
    "colab": {
     "base_uri": "https://localhost:8080/"
    },
    "executionInfo": {
     "elapsed": 4639,
     "status": "ok",
     "timestamp": 1624650485434,
     "user": {
      "displayName": "Abhinav Gupta",
      "photoUrl": "https://lh3.googleusercontent.com/a-/AOh14GjBpiTimJbxMWFkdipjcGYSIUpGfIav82LSmCyTXw=s64",
      "userId": "04670585521629932433"
     },
     "user_tz": -330
    },
    "id": "oytys2nz_UUn",
    "outputId": "0b06d038-9eb7-4b9f-f74a-c0977d12c7f9"
   },
   "outputs": [],
   "source": [
    "import sys\n",
    "!{sys.executable} -m pip install wget nltk tensorflow==2.7.1"
   ]
  },
  {
   "cell_type": "code",
   "execution_count": 1,
   "metadata": {
    "colab": {
     "base_uri": "https://localhost:8080/"
    },
    "executionInfo": {
     "elapsed": 716,
     "status": "ok",
     "timestamp": 1624650537517,
     "user": {
      "displayName": "Abhinav Gupta",
      "photoUrl": "https://lh3.googleusercontent.com/a-/AOh14GjBpiTimJbxMWFkdipjcGYSIUpGfIav82LSmCyTXw=s64",
      "userId": "04670585521629932433"
     },
     "user_tz": -330
    },
    "id": "p9Xogzjni8mm",
    "outputId": "90564549-660f-4043-9675-5c91dcab18aa"
   },
   "outputs": [
    {
     "name": "stderr",
     "output_type": "stream",
     "text": [
      "[nltk_data] Downloading package stopwords to\n",
      "[nltk_data]     C:\\Users\\amojdeh\\AppData\\Roaming\\nltk_data...\n",
      "[nltk_data]   Package stopwords is already up-to-date!\n"
     ]
    }
   ],
   "source": [
    "#Libraries\n",
    "import pandas as pd\n",
    "import numpy as np\n",
    "import wget\n",
    "import os\n",
    "from shutil import unpack_archive\n",
    "\n",
    "import matplotlib.pyplot as plt\n",
    "\n",
    "import tensorflow as tf\n",
    "from tensorflow.keras.preprocessing.text import Tokenizer\n",
    "from tensorflow.keras.preprocessing.sequence import pad_sequences\n",
    "\n",
    "from sklearn.model_selection import train_test_split\n",
    "\n",
    "import nltk\n",
    "nltk.download('stopwords')\n",
    "from nltk.corpus import stopwords\n",
    "STOPWORDS = set(stopwords.words('english'))\n",
    "\n",
    "pd.set_option(\"display.max_columns\", 101)\n",
    "pd.set_option('display.max_colwidth', 100)\n",
    "pd.options.mode.chained_assignment = None"
   ]
  },
  {
   "cell_type": "code",
   "execution_count": 6,
   "metadata": {
    "id": "CW29z5yi_av1"
   },
   "outputs": [],
   "source": [
    "# Run this cell block to download and extract dataset\n",
    "!wget 'https://hr-projects-assets-prod.s3.amazonaws.com/foi382a7hf4/0dc59d22288ac5a7d47a2ebb00892009/test.csv'\n",
    "!wget 'https://hr-projects-assets-prod.s3.amazonaws.com/foi382a7hf4/c023cef807b653f08f687cebe85c92e6/train.csv'"
   ]
  },
  {
   "cell_type": "code",
   "execution_count": 5,
   "metadata": {},
   "outputs": [],
   "source": [
    "# # download and extract GloVe embeddings\n",
    "!wget https://hr-projects-assets-prod.s3.amazonaws.com/foi382a7hf4/588c1005784efcdb25c9ecf88b082e8e/glove.6B.50d.zip\n",
    "# !unzip -q glove.6B.50d.zip"
   ]
  },
  {
   "cell_type": "markdown",
   "metadata": {
    "id": "TnyLX2WQjLw5"
   },
   "source": [
    "## Data Description"
   ]
  },
  {
   "cell_type": "markdown",
   "metadata": {
    "id": "Chn-4u1HjZzD"
   },
   "source": [
    "Column | Description\n",
    ":---|:---\n",
    "`title` | Title of the news article\n",
    "`description` | Description of the news article\n",
    "`category` | Topic of the news article. (`0 - World`, `1 - Sports`, `2 - Business`, `3 - Sci/Tech`)"
   ]
  },
  {
   "cell_type": "code",
   "execution_count": 7,
   "metadata": {
    "colab": {
     "base_uri": "https://localhost:8080/",
     "height": 204
    },
    "executionInfo": {
     "elapsed": 2138,
     "status": "ok",
     "timestamp": 1624650555581,
     "user": {
      "displayName": "Abhinav Gupta",
      "photoUrl": "https://lh3.googleusercontent.com/a-/AOh14GjBpiTimJbxMWFkdipjcGYSIUpGfIav82LSmCyTXw=s64",
      "userId": "04670585521629932433"
     },
     "user_tz": -330
    },
    "id": "REVqcOFQjDi_",
    "outputId": "613f2f9e-2ade-495d-adbd-6f085a2e0ef3"
   },
   "outputs": [
    {
     "data": {
      "text/html": [
       "<div>\n",
       "<style scoped>\n",
       "    .dataframe tbody tr th:only-of-type {\n",
       "        vertical-align: middle;\n",
       "    }\n",
       "\n",
       "    .dataframe tbody tr th {\n",
       "        vertical-align: top;\n",
       "    }\n",
       "\n",
       "    .dataframe thead th {\n",
       "        text-align: right;\n",
       "    }\n",
       "</style>\n",
       "<table border=\"1\" class=\"dataframe\">\n",
       "  <thead>\n",
       "    <tr style=\"text-align: right;\">\n",
       "      <th></th>\n",
       "      <th>title</th>\n",
       "      <th>description</th>\n",
       "      <th>category</th>\n",
       "    </tr>\n",
       "  </thead>\n",
       "  <tbody>\n",
       "    <tr>\n",
       "      <th>0</th>\n",
       "      <td>Soft Drink Company Takes The Cooking Out Of Thanksgiving</td>\n",
       "      <td>If you want the taste of Thanksgiving without the cooking and without the calories, a Seattle so...</td>\n",
       "      <td>2</td>\n",
       "    </tr>\n",
       "    <tr>\n",
       "      <th>1</th>\n",
       "      <td>Izenberg: Trinidad refuses to take shortcuts in comeback</td>\n",
       "      <td>He was tired. He had finally lost a fight after 40 straight victories. Since the age of 7, Felix...</td>\n",
       "      <td>1</td>\n",
       "    </tr>\n",
       "    <tr>\n",
       "      <th>2</th>\n",
       "      <td>Bush gives hell to UN</td>\n",
       "      <td>NEW YORK -- US President George W. Bush yesterday scolded the United Nations for failing to join...</td>\n",
       "      <td>0</td>\n",
       "    </tr>\n",
       "    <tr>\n",
       "      <th>3</th>\n",
       "      <td>EU, meeting Iraqi PM, urged to heal divisions</td>\n",
       "      <td>BRUSSELS : European leaders were urged to forget their past divisions over Iraq as they met the ...</td>\n",
       "      <td>0</td>\n",
       "    </tr>\n",
       "    <tr>\n",
       "      <th>4</th>\n",
       "      <td>on the record:</td>\n",
       "      <td>JACOBABAD: I was under no pressure to sign the presidents dual office bill, said Mohammadmian So...</td>\n",
       "      <td>0</td>\n",
       "    </tr>\n",
       "  </tbody>\n",
       "</table>\n",
       "</div>"
      ],
      "text/plain": [
       "                                                      title  \\\n",
       "0  Soft Drink Company Takes The Cooking Out Of Thanksgiving   \n",
       "1  Izenberg: Trinidad refuses to take shortcuts in comeback   \n",
       "2                                     Bush gives hell to UN   \n",
       "3             EU, meeting Iraqi PM, urged to heal divisions   \n",
       "4                                            on the record:   \n",
       "\n",
       "                                                                                           description  \\\n",
       "0  If you want the taste of Thanksgiving without the cooking and without the calories, a Seattle so...   \n",
       "1  He was tired. He had finally lost a fight after 40 straight victories. Since the age of 7, Felix...   \n",
       "2  NEW YORK -- US President George W. Bush yesterday scolded the United Nations for failing to join...   \n",
       "3  BRUSSELS : European leaders were urged to forget their past divisions over Iraq as they met the ...   \n",
       "4  JACOBABAD: I was under no pressure to sign the presidents dual office bill, said Mohammadmian So...   \n",
       "\n",
       "   category  \n",
       "0         2  \n",
       "1         1  \n",
       "2         0  \n",
       "3         0  \n",
       "4         0  "
      ]
     },
     "execution_count": 7,
     "metadata": {},
     "output_type": "execute_result"
    }
   ],
   "source": [
    "# The training dataset containing the news articles and corresponding categories is already loaded below.\n",
    "data = pd.read_csv(\"train.csv\")\n",
    "data.head()"
   ]
  },
  {
   "cell_type": "markdown",
   "metadata": {
    "id": "DR-SDOzimse3"
   },
   "source": [
    "## Deep Learning\n",
    "\n",
    "Build a neural network that can predict the category of the news article.\n",
    "- **The model's performance will be evaluated on the basis of accuracy score.**"
   ]
  },
  {
   "cell_type": "markdown",
   "metadata": {
    "id": "Q__lcwsl3k-G"
   },
   "source": [
    "### Prepare Data\n",
    "\n",
    "*   We first shuffle the dataset to remove any positional bias.\n",
    "*   We then split the data into training and validation sets with 80:20 split ratio.\n",
    "*   We then combine the description and title into one column called 'content' in order to capture information from both of them while training.\n",
    "*   We then remove the stopwords from the articles for both training and validation sets and split them into articles and category dataframes."
   ]
  },
  {
   "cell_type": "code",
   "execution_count": 8,
   "metadata": {
    "executionInfo": {
     "elapsed": 3,
     "status": "ok",
     "timestamp": 1624650561155,
     "user": {
      "displayName": "Abhinav Gupta",
      "photoUrl": "https://lh3.googleusercontent.com/a-/AOh14GjBpiTimJbxMWFkdipjcGYSIUpGfIav82LSmCyTXw=s64",
      "userId": "04670585521629932433"
     },
     "user_tz": -330
    },
    "id": "dyCdzewaQzv3"
   },
   "outputs": [],
   "source": [
    "# shuffle data and create training and validation sets\n",
    "data_shuffled = data.sample(frac=1, random_state=42).reset_index(drop=True)\n",
    "data_train, data_validation = train_test_split(data_shuffled, test_size=0.15, random_state=42)"
   ]
  },
  {
   "cell_type": "code",
   "execution_count": 9,
   "metadata": {
    "executionInfo": {
     "elapsed": 3,
     "status": "ok",
     "timestamp": 1624650561155,
     "user": {
      "displayName": "Abhinav Gupta",
      "photoUrl": "https://lh3.googleusercontent.com/a-/AOh14GjBpiTimJbxMWFkdipjcGYSIUpGfIav82LSmCyTXw=s64",
      "userId": "04670585521629932433"
     },
     "user_tz": -330
    },
    "id": "h82nA9RQQzv3"
   },
   "outputs": [],
   "source": [
    "# create the content column\n",
    "data_train.loc[:, 'content'] = data_train.loc[:, 'description'] + ' ' + data_train.loc[:, 'title']\n",
    "data_validation.loc[:, 'content'] = data_validation.loc[:, 'description'] + ' ' + data_validation.loc[:, 'title']"
   ]
  },
  {
   "cell_type": "code",
   "execution_count": 10,
   "metadata": {
    "executionInfo": {
     "elapsed": 6,
     "status": "ok",
     "timestamp": 1624650563208,
     "user": {
      "displayName": "Abhinav Gupta",
      "photoUrl": "https://lh3.googleusercontent.com/a-/AOh14GjBpiTimJbxMWFkdipjcGYSIUpGfIav82LSmCyTXw=s64",
      "userId": "04670585521629932433"
     },
     "user_tz": -330
    },
    "id": "tDuVLg1g4v1W"
   },
   "outputs": [],
   "source": [
    "# helper function to remove stopwords\n",
    "def remove_stopwords(x):\n",
    "    for word in STOPWORDS:\n",
    "        token = ' ' + word + ' '\n",
    "        x = x.replace(token, ' ')\n",
    "        x = x.replace(' ', ' ')\n",
    "    return x"
   ]
  },
  {
   "cell_type": "code",
   "execution_count": 11,
   "metadata": {
    "executionInfo": {
     "elapsed": 13273,
     "status": "ok",
     "timestamp": 1624650576476,
     "user": {
      "displayName": "Abhinav Gupta",
      "photoUrl": "https://lh3.googleusercontent.com/a-/AOh14GjBpiTimJbxMWFkdipjcGYSIUpGfIav82LSmCyTXw=s64",
      "userId": "04670585521629932433"
     },
     "user_tz": -330
    },
    "id": "q2e5ozG24-2Q"
   },
   "outputs": [],
   "source": [
    "# remove stopwords and split into articles and category dataframes\n",
    "train_articles = data_train.loc[:, 'content'].apply(remove_stopwords)\n",
    "train_category = data_train.loc[:, 'category']\n",
    "val_articles = data_validation.loc[:, 'content'].apply(remove_stopwords)\n",
    "val_category = data_validation.loc[:, 'category']"
   ]
  },
  {
   "cell_type": "markdown",
   "metadata": {
    "id": "pYJ_RDIV5IyU"
   },
   "source": [
    "Now, we split the training posts into tokens and build a vocabulary of the top 65000 words.\n",
    "\n",
    "For the purposes of tokenization, we just use the basic Keras Tokenizer which removes any punctuations in the text and splits by the `' '` delimiter.\n",
    "\n",
    "For all the words not in the vocabulary, we assign a special `<OOV>` token.\n",
    "\n",
    "We also print the top-10 words in our vocabulary."
   ]
  },
  {
   "cell_type": "code",
   "execution_count": 12,
   "metadata": {
    "colab": {
     "base_uri": "https://localhost:8080/"
    },
    "executionInfo": {
     "elapsed": 3381,
     "status": "ok",
     "timestamp": 1624650579854,
     "user": {
      "displayName": "Abhinav Gupta",
      "photoUrl": "https://lh3.googleusercontent.com/a-/AOh14GjBpiTimJbxMWFkdipjcGYSIUpGfIav82LSmCyTXw=s64",
      "userId": "04670585521629932433"
     },
     "user_tz": -330
    },
    "id": "2Fq1mshU5FUS",
    "outputId": "a8a0d2a6-aad2-4ce1-9e15-930166bba0c3"
   },
   "outputs": [
    {
     "name": "stdout",
     "output_type": "stream",
     "text": [
      "{'<OOV>': 1, '39': 2, 's': 3, 'the': 4, 'new': 5, 'said': 6, 'reuters': 7, 'ap': 8, 'a': 9, 'gt': 10}\n"
     ]
    }
   ],
   "source": [
    "# tokenize and build vocab\n",
    "VOCAB_SIZE = 65000\n",
    "OOV_TOKEN = '<OOV>'\n",
    "tokenizer = Tokenizer(num_words=VOCAB_SIZE, oov_token=OOV_TOKEN)\n",
    "tokenizer.fit_on_texts(train_articles)\n",
    "word_index = tokenizer.word_index\n",
    "reverse_word_index = dict([(value, key) for (key, value) in word_index.items()])\n",
    "\n",
    "print(dict(list(word_index.items())[0:10]))"
   ]
  },
  {
   "cell_type": "markdown",
   "metadata": {
    "id": "qIAhLx4QJRXV"
   },
   "source": [
    "We now load pre-trained GloVe embeddings which we can use as out-of-box word representations to train our model.\n",
    "\n",
    "For that, we do the following:\n",
    "*    We first download the GloVe embeddings.\n",
    "*    We then create an embedding index where we store each word in the embeddings file and its corresponding embedding.\n",
    "*    Using the embeddings index and the reverse_word_index of our vocabulary, we create the embedding matrix."
   ]
  },
  {
   "cell_type": "code",
   "execution_count": 13,
   "metadata": {
    "colab": {
     "base_uri": "https://localhost:8080/"
    },
    "executionInfo": {
     "elapsed": 25236,
     "status": "ok",
     "timestamp": 1624651000854,
     "user": {
      "displayName": "Abhinav Gupta",
      "photoUrl": "https://lh3.googleusercontent.com/a-/AOh14GjBpiTimJbxMWFkdipjcGYSIUpGfIav82LSmCyTXw=s64",
      "userId": "04670585521629932433"
     },
     "user_tz": -330
    },
    "id": "vtfvPMykGuH3",
    "outputId": "990bccfa-7dd8-42e5-f441-e9d2640094a4"
   },
   "outputs": [
    {
     "name": "stdout",
     "output_type": "stream",
     "text": [
      "Found 400000 word vectors.\n"
     ]
    }
   ],
   "source": [
    "# create the embedding index\n",
    "EMBEDDING_DIM = 50\n",
    "path_to_glove_file = f'glove.6B.{EMBEDDING_DIM}d.txt'\n",
    "\n",
    "embeddings_index = {}\n",
    "with open(path_to_glove_file, encoding='utf-8') as f:\n",
    "    for line in f:\n",
    "        word, coefs = line.split(maxsplit=1)\n",
    "        coefs = np.fromstring(coefs, \"f\", sep=\" \")\n",
    "        embeddings_index[word] = coefs\n",
    "\n",
    "print(\"Found %s word vectors.\" % len(embeddings_index))"
   ]
  },
  {
   "cell_type": "code",
   "execution_count": 14,
   "metadata": {
    "colab": {
     "base_uri": "https://localhost:8080/"
    },
    "executionInfo": {
     "elapsed": 457,
     "status": "ok",
     "timestamp": 1624651004758,
     "user": {
      "displayName": "Abhinav Gupta",
      "photoUrl": "https://lh3.googleusercontent.com/a-/AOh14GjBpiTimJbxMWFkdipjcGYSIUpGfIav82LSmCyTXw=s64",
      "userId": "04670585521629932433"
     },
     "user_tz": -330
    },
    "id": "na-ZPq-UHiz2",
    "outputId": "02ba25e9-97ec-4a53-867a-abb3d1f9c4ed"
   },
   "outputs": [
    {
     "name": "stdout",
     "output_type": "stream",
     "text": [
      "Converted 53501 words (11500 misses)\n"
     ]
    }
   ],
   "source": [
    "# create the embedding matrix\n",
    "hits = 0\n",
    "misses = 0\n",
    "\n",
    "embedding_matrix = np.zeros((VOCAB_SIZE + 1, EMBEDDING_DIM))\n",
    "\n",
    "for i in range(VOCAB_SIZE + 1):\n",
    "    word = reverse_word_index.get(i, None)\n",
    "    if word is None:\n",
    "        misses += 1\n",
    "        continue\n",
    "    embedding_vector = embeddings_index.get(word, None)\n",
    "    if embedding_vector is not None:\n",
    "        embedding_matrix[i] = embedding_vector\n",
    "        hits += 1\n",
    "    else:\n",
    "        misses += 1\n",
    "print(\"Converted %d words (%d misses)\" % (hits, misses))"
   ]
  },
  {
   "cell_type": "markdown",
   "metadata": {
    "id": "8OwLUVs55miZ"
   },
   "source": [
    "We now convert our training and validation articles into sequences using the built vocabulary so that they can be used to train the model. We also convert the labels into numpy arrays.\n",
    "\n",
    "We also pad/truncate the sequences shorter/longer than 40 words."
   ]
  },
  {
   "cell_type": "code",
   "execution_count": 15,
   "metadata": {
    "executionInfo": {
     "elapsed": 3458,
     "status": "ok",
     "timestamp": 1624651011165,
     "user": {
      "displayName": "Abhinav Gupta",
      "photoUrl": "https://lh3.googleusercontent.com/a-/AOh14GjBpiTimJbxMWFkdipjcGYSIUpGfIav82LSmCyTXw=s64",
      "userId": "04670585521629932433"
     },
     "user_tz": -330
    },
    "id": "lSFUkt0q5FOe"
   },
   "outputs": [],
   "source": [
    "# build sequences and pad/truncate\n",
    "MAX_LENGTH = 40\n",
    "TRUNC_TYPE = 'post'\n",
    "PADDING_TYPE = 'post'\n",
    "\n",
    "train_sequences = tokenizer.texts_to_sequences(train_articles)\n",
    "train_padded = pad_sequences(train_sequences, maxlen=MAX_LENGTH, padding=PADDING_TYPE, truncating=TRUNC_TYPE)\n",
    "\n",
    "val_sequences = tokenizer.texts_to_sequences(val_articles)\n",
    "val_padded = pad_sequences(val_sequences, maxlen=MAX_LENGTH, padding=PADDING_TYPE, truncating=TRUNC_TYPE)"
   ]
  },
  {
   "cell_type": "code",
   "execution_count": 16,
   "metadata": {
    "executionInfo": {
     "elapsed": 5,
     "status": "ok",
     "timestamp": 1624651011166,
     "user": {
      "displayName": "Abhinav Gupta",
      "photoUrl": "https://lh3.googleusercontent.com/a-/AOh14GjBpiTimJbxMWFkdipjcGYSIUpGfIav82LSmCyTXw=s64",
      "userId": "04670585521629932433"
     },
     "user_tz": -330
    },
    "id": "ZOg6rJXM5FLa"
   },
   "outputs": [],
   "source": [
    "# convert labels\n",
    "train_label = np.array(train_category).reshape(-1, 1)\n",
    "val_label = np.array(val_category).reshape(-1, 1)"
   ]
  },
  {
   "cell_type": "markdown",
   "metadata": {
    "id": "17C9FP6c5_8G"
   },
   "source": [
    "We do a little sanity check to see that if all the preprocessing steps are done correctly."
   ]
  },
  {
   "cell_type": "code",
   "execution_count": 17,
   "metadata": {
    "colab": {
     "base_uri": "https://localhost:8080/"
    },
    "executionInfo": {
     "elapsed": 3,
     "status": "ok",
     "timestamp": 1624651012978,
     "user": {
      "displayName": "Abhinav Gupta",
      "photoUrl": "https://lh3.googleusercontent.com/a-/AOh14GjBpiTimJbxMWFkdipjcGYSIUpGfIav82LSmCyTXw=s64",
      "userId": "04670585521629932433"
     },
     "user_tz": -330
    },
    "id": "bxjvaQVL5FIE",
    "outputId": "336a7ed5-0bfe-479c-e07d-0fe6c026b7a5"
   },
   "outputs": [
    {
     "name": "stdout",
     "output_type": "stream",
     "text": [
      "a computer hacker accessed names social security numbers 1 4 million californians breaking university california berkeley computer system hacker hits california university computer <pad> <pad> <pad> <pad> <pad> <pad> <pad> <pad> <pad> <pad> <pad> <pad> <pad> <pad> <pad> <pad> <pad>\n",
      "---\n",
      "A computer hacker accessed names Social Security numbers 1.4 million Californians breaking University California, Berkeley, computer system. Hacker Hits California University Computer\n"
     ]
    }
   ],
   "source": [
    "# sanilty check\n",
    "def decode_article(text):\n",
    "    return ' '.join([reverse_word_index.get(i, '<pad>') for i in text])\n",
    "\n",
    "print(decode_article(train_padded[10]))\n",
    "print('---')\n",
    "print(train_articles.iloc[10])"
   ]
  },
  {
   "cell_type": "markdown",
   "metadata": {
    "id": "S_DIY5xyQ8O4"
   },
   "source": [
    "### Prepare and Train Model\n",
    "> #### Task:\n",
    "- **Use the processed data to build train a deep learning model using tensorflow.**"
   ]
  },
  {
   "cell_type": "markdown",
   "metadata": {},
   "source": [
    "#### Building a sequential model using TensorFlow Keras\n",
    "Due to time constraints, I had to reduce the number of epochs to 4. "
   ]
  },
  {
   "cell_type": "code",
   "execution_count": 77,
   "metadata": {
    "executionInfo": {
     "elapsed": 2,
     "status": "ok",
     "timestamp": 1624651015518,
     "user": {
      "displayName": "Abhinav Gupta",
      "photoUrl": "https://lh3.googleusercontent.com/a-/AOh14GjBpiTimJbxMWFkdipjcGYSIUpGfIav82LSmCyTXw=s64",
      "userId": "04670585521629932433"
     },
     "user_tz": -330
    },
    "id": "v_zQ6YQAQ9O7"
   },
   "outputs": [
    {
     "name": "stdout",
     "output_type": "stream",
     "text": [
      "Model: \"sequential_22\"\n",
      "_________________________________________________________________\n",
      " Layer (type)                Output Shape              Param #   \n",
      "=================================================================\n",
      " embedding_17 (Embedding)    (None, 40, 50)            3250000   \n",
      "                                                                 \n",
      " conv1d_13 (Conv1D)          (None, 36, 48)            12048     \n",
      "                                                                 \n",
      " global_max_pooling1d_10 (Gl  (None, 48)               0         \n",
      " obalMaxPooling1D)                                               \n",
      "                                                                 \n",
      " dropout_22 (Dropout)        (None, 48)                0         \n",
      "                                                                 \n",
      " flatten_10 (Flatten)        (None, 48)                0         \n",
      "                                                                 \n",
      " dropout_23 (Dropout)        (None, 48)                0         \n",
      "                                                                 \n",
      " dense_28 (Dense)            (None, 5)                 245       \n",
      "                                                                 \n",
      "=================================================================\n",
      "Total params: 3,262,293\n",
      "Trainable params: 3,262,293\n",
      "Non-trainable params: 0\n",
      "_________________________________________________________________\n",
      "Epoch 1/4\n",
      "3188/3188 [==============================] - 135s 42ms/step - loss: 0.5990 - accuracy: 0.7888 - val_loss: 0.3067 - val_accuracy: 0.9036\n",
      "Epoch 2/4\n",
      "3188/3188 [==============================] - 133s 42ms/step - loss: 0.3659 - accuracy: 0.8850 - val_loss: 0.2977 - val_accuracy: 0.9068\n",
      "Epoch 3/4\n",
      "3188/3188 [==============================] - 139s 44ms/step - loss: 0.2989 - accuracy: 0.9063 - val_loss: 0.3089 - val_accuracy: 0.9059\n",
      "Epoch 4/4\n",
      "3188/3188 [==============================] - 135s 42ms/step - loss: 0.2533 - accuracy: 0.9195 - val_loss: 0.3319 - val_accuracy: 0.9039\n"
     ]
    }
   ],
   "source": [
    "model = tf.keras.Sequential()\n",
    "model.add(tf.keras.layers.Embedding(VOCAB_SIZE, EMBEDDING_DIM, input_length=train_padded.shape[1]))\n",
    "\n",
    "model.add(tf.keras.layers.Conv1D(48, 5, activation='relu', padding='valid'))\n",
    "model.add(tf.keras.layers.GlobalMaxPooling1D())\n",
    "model.add(tf.keras.layers.Dropout(0.5))\n",
    "\n",
    "model.add(tf.keras.layers.Flatten())\n",
    "model.add(tf.keras.layers.Dropout(0.5))\n",
    "\n",
    "model.add(tf.keras.layers.Dense(5, activation='softmax'))\n",
    "model.summary()\n",
    "model.compile(loss='sparse_categorical_crossentropy', optimizer='adam', metrics=['accuracy'])\n",
    "\n",
    "epochs = 4\n",
    "batch_size = 32\n",
    "\n",
    "history = model.fit(train_padded, train_label, shuffle=True ,\n",
    "                    epochs=epochs, batch_size=batch_size, \n",
    "                    validation_data=(val_padded, val_label))"
   ]
  },
  {
   "cell_type": "code",
   "execution_count": 78,
   "metadata": {},
   "outputs": [
    {
     "data": {
      "image/png": "[encoded data removed]",
      "text/plain": [
       "<Figure size 432x288 with 1 Axes>"
      ]
     },
     "metadata": {
      "needs_background": "light"
     },
     "output_type": "display_data"
    }
   ],
   "source": [
    "plt.title('Loss')\n",
    "plt.plot(history.history['loss'], label='train')\n",
    "plt.plot(history.history['val_loss'], label='test')\n",
    "plt.legend()\n",
    "plt.show();"
   ]
  },
  {
   "cell_type": "code",
   "execution_count": 79,
   "metadata": {},
   "outputs": [
    {
     "data": {
      "image/png": "[encoded data removed]",
      "text/plain": [
       "<Figure size 432x288 with 1 Axes>"
      ]
     },
     "metadata": {
      "needs_background": "light"
     },
     "output_type": "display_data"
    }
   ],
   "source": [
    "plt.title('Accuracy')\n",
    "plt.plot(history.history['accuracy'], label='train')\n",
    "plt.plot(history.history['val_accuracy'], label='test')\n",
    "plt.legend()\n",
    "plt.show();"
   ]
  },
  {
   "cell_type": "markdown",
   "metadata": {
    "id": "sXCkndGRm6Bz"
   },
   "source": [
    "> #### Task:\n",
    "- **Submit the predictions on the test dataset using your optimized model** <br/>\n",
    "    For each record in the test set (test.csv), predict the value of the 'category' variable. Submit a CSV file with a header row and one row per test entry.\n",
    "\n",
    "The file (`submissions.csv`) should have exactly 3 columns:\n",
    "\n",
    "Column | Description\n",
    ":---|:---\n",
    "`title` | Title of the news article\n",
    "`description` | Description of the news article\n",
    "`category` | Topic of the news article. (`0 - World`, `1 - Sports`, `2 - Business`, `3 - Sci/Tech`)"
   ]
  },
  {
   "cell_type": "code",
   "execution_count": 69,
   "metadata": {
    "colab": {
     "base_uri": "https://localhost:8080/",
     "height": 204
    },
    "executionInfo": {
     "elapsed": 855,
     "status": "ok",
     "timestamp": 1624651021013,
     "user": {
      "displayName": "Abhinav Gupta",
      "photoUrl": "https://lh3.googleusercontent.com/a-/AOh14GjBpiTimJbxMWFkdipjcGYSIUpGfIav82LSmCyTXw=s64",
      "userId": "04670585521629932433"
     },
     "user_tz": -330
    },
    "id": "m0UOiaNWnvL5",
    "outputId": "249c79d3-53e6-458c-c100-34a5e7c3525c"
   },
   "outputs": [
    {
     "data": {
      "text/html": [
       "<div>\n",
       "<style scoped>\n",
       "    .dataframe tbody tr th:only-of-type {\n",
       "        vertical-align: middle;\n",
       "    }\n",
       "\n",
       "    .dataframe tbody tr th {\n",
       "        vertical-align: top;\n",
       "    }\n",
       "\n",
       "    .dataframe thead th {\n",
       "        text-align: right;\n",
       "    }\n",
       "</style>\n",
       "<table border=\"1\" class=\"dataframe\">\n",
       "  <thead>\n",
       "    <tr style=\"text-align: right;\">\n",
       "      <th></th>\n",
       "      <th>title</th>\n",
       "      <th>description</th>\n",
       "    </tr>\n",
       "  </thead>\n",
       "  <tbody>\n",
       "    <tr>\n",
       "      <th>0</th>\n",
       "      <td>The Playlist: What's Wrong With Digital Music Stores? (PC World)</td>\n",
       "      <td>PC World - Though digital music has come a long way, today's online music stores still have sign...</td>\n",
       "    </tr>\n",
       "    <tr>\n",
       "      <th>1</th>\n",
       "      <td>Philippine Rail Cars Crash Into Ravine, 100 Trapped</td>\n",
       "      <td>MANILA (Reuters) - Rescuers in the Philippines smashed  train windows with axes and hammers Fri...</td>\n",
       "    </tr>\n",
       "    <tr>\n",
       "      <th>2</th>\n",
       "      <td>Jets hit rebel city in payback for hotel raid</td>\n",
       "      <td>BAGHDAD: US fighter jets bombed the rebel-held city of Fallujah yesterday, killing at least 10 p...</td>\n",
       "    </tr>\n",
       "    <tr>\n",
       "      <th>3</th>\n",
       "      <td>Intel Helps Asian PC Partners Ship With Linux (TechWeb)</td>\n",
       "      <td>TechWeb - Chipmaker provides Linux tools to reach growing market there.</td>\n",
       "    </tr>\n",
       "    <tr>\n",
       "      <th>4</th>\n",
       "      <td>4 French schoolgirls expelled for wearing head scarves</td>\n",
       "      <td>Two Muslim girls were expelled Wednesday from high school for refusing to remove their head scar...</td>\n",
       "    </tr>\n",
       "  </tbody>\n",
       "</table>\n",
       "</div>"
      ],
      "text/plain": [
       "                                                              title  \\\n",
       "0  The Playlist: What's Wrong With Digital Music Stores? (PC World)   \n",
       "1               Philippine Rail Cars Crash Into Ravine, 100 Trapped   \n",
       "2                     Jets hit rebel city in payback for hotel raid   \n",
       "3           Intel Helps Asian PC Partners Ship With Linux (TechWeb)   \n",
       "4            4 French schoolgirls expelled for wearing head scarves   \n",
       "\n",
       "                                                                                           description  \n",
       "0  PC World - Though digital music has come a long way, today's online music stores still have sign...  \n",
       "1   MANILA (Reuters) - Rescuers in the Philippines smashed  train windows with axes and hammers Fri...  \n",
       "2  BAGHDAD: US fighter jets bombed the rebel-held city of Fallujah yesterday, killing at least 10 p...  \n",
       "3                              TechWeb - Chipmaker provides Linux tools to reach growing market there.  \n",
       "4  Two Muslim girls were expelled Wednesday from high school for refusing to remove their head scar...  "
      ]
     },
     "execution_count": 69,
     "metadata": {},
     "output_type": "execute_result"
    }
   ],
   "source": [
    "test = pd.read_csv(\"test.csv\")\n",
    "test.head()"
   ]
  },
  {
   "cell_type": "markdown",
   "metadata": {
    "id": "zYWLwxh6Omz_"
   },
   "source": [
    "### Prepare Data\n",
    "Similar to the train data, we prepare the test data."
   ]
  },
  {
   "cell_type": "code",
   "execution_count": 70,
   "metadata": {
    "executionInfo": {
     "elapsed": 2,
     "status": "ok",
     "timestamp": 1624651022623,
     "user": {
      "displayName": "Abhinav Gupta",
      "photoUrl": "https://lh3.googleusercontent.com/a-/AOh14GjBpiTimJbxMWFkdipjcGYSIUpGfIav82LSmCyTXw=s64",
      "userId": "04670585521629932433"
     },
     "user_tz": -330
    },
    "id": "WFunyHUQRBxD"
   },
   "outputs": [],
   "source": [
    "# combine description and title\n",
    "test.loc[:, 'content'] = test.loc[:, 'description'] + ' ' + test.loc[:, 'title']"
   ]
  },
  {
   "cell_type": "code",
   "execution_count": 71,
   "metadata": {
    "executionInfo": {
     "elapsed": 722,
     "status": "ok",
     "timestamp": 1624651024905,
     "user": {
      "displayName": "Abhinav Gupta",
      "photoUrl": "https://lh3.googleusercontent.com/a-/AOh14GjBpiTimJbxMWFkdipjcGYSIUpGfIav82LSmCyTXw=s64",
      "userId": "04670585521629932433"
     },
     "user_tz": -330
    },
    "id": "-Bfn-S93OvuE"
   },
   "outputs": [],
   "source": [
    "# remove stopwords\n",
    "test_articles = test.loc[:, 'content'].apply(remove_stopwords)"
   ]
  },
  {
   "cell_type": "code",
   "execution_count": 72,
   "metadata": {
    "executionInfo": {
     "elapsed": 3,
     "status": "ok",
     "timestamp": 1624651024905,
     "user": {
      "displayName": "Abhinav Gupta",
      "photoUrl": "https://lh3.googleusercontent.com/a-/AOh14GjBpiTimJbxMWFkdipjcGYSIUpGfIav82LSmCyTXw=s64",
      "userId": "04670585521629932433"
     },
     "user_tz": -330
    },
    "id": "Bhq0fIqfO4hT"
   },
   "outputs": [],
   "source": [
    "# build sequences and pad/truncate\n",
    "test_sequences = tokenizer.texts_to_sequences(test_articles)\n",
    "test_padded = pad_sequences(test_sequences, maxlen=MAX_LENGTH, padding=PADDING_TYPE, truncating=TRUNC_TYPE)"
   ]
  },
  {
   "cell_type": "markdown",
   "metadata": {
    "id": "XKbloasgRDMW"
   },
   "source": [
    "### Generate Predictions\n",
    "> #### Task:\n",
    "- **Write the code to generate predictions on the test data.**"
   ]
  },
  {
   "cell_type": "code",
   "execution_count": 84,
   "metadata": {
    "executionInfo": {
     "elapsed": 569,
     "status": "ok",
     "timestamp": 1624651027531,
     "user": {
      "displayName": "Abhinav Gupta",
      "photoUrl": "https://lh3.googleusercontent.com/a-/AOh14GjBpiTimJbxMWFkdipjcGYSIUpGfIav82LSmCyTXw=s64",
      "userId": "04670585521629932433"
     },
     "user_tz": -330
    },
    "id": "WcvhBu_sRG5y"
   },
   "outputs": [],
   "source": [
    "pred = model.predict(test_padded)\n",
    "prediction = []\n",
    "for i in pred:\n",
    "    prediction.append(np.argmax(i))"
   ]
  },
  {
   "cell_type": "code",
   "execution_count": 87,
   "metadata": {
    "executionInfo": {
     "elapsed": 2,
     "status": "ok",
     "timestamp": 1624651028004,
     "user": {
      "displayName": "Abhinav Gupta",
      "photoUrl": "https://lh3.googleusercontent.com/a-/AOh14GjBpiTimJbxMWFkdipjcGYSIUpGfIav82LSmCyTXw=s64",
      "userId": "04670585521629932433"
     },
     "user_tz": -330
    },
    "id": "Og70uVujRG16"
   },
   "outputs": [],
   "source": [
    "test.drop(['content'], inplace=True, axis=1)"
   ]
  },
  {
   "cell_type": "code",
   "execution_count": 90,
   "metadata": {
    "id": "o2SEb3S3RGyN"
   },
   "outputs": [
    {
     "data": {
      "text/html": [
       "<div>\n",
       "<style scoped>\n",
       "    .dataframe tbody tr th:only-of-type {\n",
       "        vertical-align: middle;\n",
       "    }\n",
       "\n",
       "    .dataframe tbody tr th {\n",
       "        vertical-align: top;\n",
       "    }\n",
       "\n",
       "    .dataframe thead th {\n",
       "        text-align: right;\n",
       "    }\n",
       "</style>\n",
       "<table border=\"1\" class=\"dataframe\">\n",
       "  <thead>\n",
       "    <tr style=\"text-align: right;\">\n",
       "      <th></th>\n",
       "      <th>title</th>\n",
       "      <th>description</th>\n",
       "      <th>category</th>\n",
       "    </tr>\n",
       "  </thead>\n",
       "  <tbody>\n",
       "    <tr>\n",
       "      <th>0</th>\n",
       "      <td>The Playlist: What's Wrong With Digital Music Stores? (PC World)</td>\n",
       "      <td>PC World - Though digital music has come a long way, today's online music stores still have sign...</td>\n",
       "      <td>3</td>\n",
       "    </tr>\n",
       "    <tr>\n",
       "      <th>1</th>\n",
       "      <td>Philippine Rail Cars Crash Into Ravine, 100 Trapped</td>\n",
       "      <td>MANILA (Reuters) - Rescuers in the Philippines smashed  train windows with axes and hammers Fri...</td>\n",
       "      <td>0</td>\n",
       "    </tr>\n",
       "    <tr>\n",
       "      <th>2</th>\n",
       "      <td>Jets hit rebel city in payback for hotel raid</td>\n",
       "      <td>BAGHDAD: US fighter jets bombed the rebel-held city of Fallujah yesterday, killing at least 10 p...</td>\n",
       "      <td>0</td>\n",
       "    </tr>\n",
       "    <tr>\n",
       "      <th>3</th>\n",
       "      <td>Intel Helps Asian PC Partners Ship With Linux (TechWeb)</td>\n",
       "      <td>TechWeb - Chipmaker provides Linux tools to reach growing market there.</td>\n",
       "      <td>3</td>\n",
       "    </tr>\n",
       "    <tr>\n",
       "      <th>4</th>\n",
       "      <td>4 French schoolgirls expelled for wearing head scarves</td>\n",
       "      <td>Two Muslim girls were expelled Wednesday from high school for refusing to remove their head scar...</td>\n",
       "      <td>0</td>\n",
       "    </tr>\n",
       "  </tbody>\n",
       "</table>\n",
       "</div>"
      ],
      "text/plain": [
       "                                                              title  \\\n",
       "0  The Playlist: What's Wrong With Digital Music Stores? (PC World)   \n",
       "1               Philippine Rail Cars Crash Into Ravine, 100 Trapped   \n",
       "2                     Jets hit rebel city in payback for hotel raid   \n",
       "3           Intel Helps Asian PC Partners Ship With Linux (TechWeb)   \n",
       "4            4 French schoolgirls expelled for wearing head scarves   \n",
       "\n",
       "                                                                                           description  \\\n",
       "0  PC World - Though digital music has come a long way, today's online music stores still have sign...   \n",
       "1   MANILA (Reuters) - Rescuers in the Philippines smashed  train windows with axes and hammers Fri...   \n",
       "2  BAGHDAD: US fighter jets bombed the rebel-held city of Fallujah yesterday, killing at least 10 p...   \n",
       "3                              TechWeb - Chipmaker provides Linux tools to reach growing market there.   \n",
       "4  Two Muslim girls were expelled Wednesday from high school for refusing to remove their head scar...   \n",
       "\n",
       "   category  \n",
       "0         3  \n",
       "1         0  \n",
       "2         0  \n",
       "3         3  \n",
       "4         0  "
      ]
     },
     "execution_count": 90,
     "metadata": {},
     "output_type": "execute_result"
    }
   ],
   "source": [
    "test.head()"
   ]
  },
  {
   "cell_type": "code",
   "execution_count": 91,
   "metadata": {
    "id": "oo1BW2qnnzJj"
   },
   "outputs": [],
   "source": [
    "#Submission\n",
    "test.to_csv('submissions.csv', index=False)"
   ]
  }
 ],
 "metadata": {
  "colab": {
   "authorship_tag": "ABX9TyNNC18eZt1kbzXsc2ZmVvzh",
   "collapsed_sections": [],
   "mount_file_id": "1yqCgqpbolAs85RfdsXi92R0Q79cUMBsG",
   "name": "Question-50d.ipynb",
   "provenance": []
  },
  "kernelspec": {
   "display_name": "Python 3.9.12 ('base')",
   "language": "python",
   "name": "python3"
  },
  "language_info": {
   "codemirror_mode": {
    "name": "ipython",
    "version": 3
   },
   "file_extension": ".py",
   "mimetype": "text/x-python",
   "name": "python",
   "nbconvert_exporter": "python",
   "pygments_lexer": "ipython3",
   "version": "3.9.12"
  },
  "vscode": {
   "interpreter": {
    "hash": "7d614c7e3403b65c4ead35974438caaf3f219e12705c7169852252209fa852a1"
   }
  }
 },
 "nbformat": 4,
 "nbformat_minor": 4
}
